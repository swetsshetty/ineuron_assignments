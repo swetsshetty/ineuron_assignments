{
 "cells": [
  {
   "cell_type": "markdown",
   "id": "0097600c",
   "metadata": {},
   "source": [
    "Problem Statement 3:\n",
    "Blood glucose levels for obese patients have a mean of 100 with a standard deviation of 15. A researcher thinks that a diet high in raw cornstarch will have a positive effect on blood glucose levels. A sample of 36 patients who have tried the raw cornstarch diet have a mean glucose level of 108. Test the hypothesis that the raw cornstarch had an effect or not.\n",
    "\n"
   ]
  },
  {
   "cell_type": "code",
   "execution_count": 8,
   "id": "0f852bb0",
   "metadata": {},
   "outputs": [
    {
     "name": "stdout",
     "output_type": "stream",
     "text": [
      "Z Score :  3.2\n"
     ]
    }
   ],
   "source": [
    "pop_mean = 100\n",
    "std = 15\n",
    "n = 36\n",
    "sample_mean = 108\n",
    "\n",
    "\n",
    "#since population standard deviation is given, use z-test, \n",
    "#let the significance level be 5% (0.05) which implies 1-0.0.5=0.95. we get 1.65 from z-table\n",
    "alpha = 0.05\n",
    "zscore= (sample_mean-pop_mean) /(std/36**0.5)\n",
    "\n",
    "print(\"Z Score : \",zscore)\n",
    "\n",
    "#The population mean is 100.\n",
    "#Null Hypothesis;  H0: μ= 100\n",
    "#Alternate hypothesis;    H1: μ not equal to 100\n",
    "#significance level not given in the problem so let’s assume it as 0.05\n",
    "#Compute the random chance probability using z score and z-table.\n",
    "#For this set of data: z= (108-100) / (15/√36)=3.20\n",
    "#REFERING Z TABLE we get : 1.65 greater than 3.20. \n",
    "#so we reject the null hypothesis \n",
    "#we conclude that  a diet high in raw cornstarch will have a positive effect on blood glucose levels"
   ]
  },
  {
   "cell_type": "markdown",
   "id": "f41d4d84",
   "metadata": {},
   "source": [
    "Problem Statement 2:\n",
    "In one state, 52% of the voters are Republicans, and 48% are Democrats. In a second\n",
    "state, 47% of the voters are Republicans, and 53% are Democrats. Suppose a simple\n",
    "random sample of 100 voters are surveyed from each state.\n",
    "What is the probability that the survey will show a greater percentage of Republican\n",
    "voters in the second state than in the first state?\n",
    "SOLUTION: \n"
   ]
  },
  {
   "cell_type": "code",
   "execution_count": null,
   "id": "91ebe99d",
   "metadata": {},
   "outputs": [],
   "source": [
    "# P1 : Republican voters in first state\n",
    "#1-P1=Democrats in first state=0.48 \n",
    "\n",
    "#P2 = Republican voters in second state=0.53 \n",
    "#1-P2=Democrats in second state=0.47 #n1=n2=100\n",
    "#Mean difference of republican in both states = 0.52 - 0.47 = 0.05\n",
    "\n",
    "#σd = SQRT((P1)(1-P1)/n1 + (P2)(1-P2)/n2 ) #σd = SQRT((0.52)(0.48)/100 + (0.47)(0.53)/100 ) = 0.0706\n",
    "\n",
    "#Z score = ( Value - mean ) / SD\n",
    "\n",
    "#Difference should be less than 0 for greater percentage of Republican voters in the second state than in the first state\n",
    "\n",
    "#Hence Value = 0\n",
    "\n",
    "#Z = ( 0 - 0.05)/ 0.0706\n",
    "\n",
    "#Z = -0.708\n",
    "\n",
    "#From Z score table -0.708 refers to 0.24\n",
    "\n",
    "#Hence 0.24 is the probability that the survey will show a greater percentage of Republican voters in the second state than in the first state"
   ]
  },
  {
   "cell_type": "markdown",
   "id": "7f240130",
   "metadata": {},
   "source": [
    "Problem Statement 3:\n",
    "You take the SAT and score 1100. The mean score for the SAT is 1026 and the standard\n",
    "deviation is 209. How well did you score on the test compared to the average test taker?\n",
    "\n",
    "\n",
    "\n",
    "  \n",
    "  "
   ]
  },
  {
   "cell_type": "code",
   "execution_count": 7,
   "id": "6ced2f53",
   "metadata": {},
   "outputs": [
    {
     "name": "stdout",
     "output_type": "stream",
     "text": [
      "Z Score :  0.35406698564593303\n"
     ]
    }
   ],
   "source": [
    "#x = 1100,, sample mean\n",
    "#μ = 1026 ,Population Mean\n",
    "#σ = 209,standard deviation\n",
    "#z = (x-μ) / σ, z-score\n",
    "\n",
    " # = (1100-1026)/209\n",
    "  #=0.354 std\n",
    " \n",
    "    \n",
    "x = 1100 \n",
    "mu = 1026\n",
    "sd = 209 \n",
    "z = ( x - mu)/sd\n",
    "print(\"Z Score : \",z)\n",
    "  #refer z table to find percentage of test takers scored below me 0.6368=63.68percent"
   ]
  },
  {
   "cell_type": "code",
   "execution_count": null,
   "id": "cfdee9fe",
   "metadata": {},
   "outputs": [],
   "source": []
  }
 ],
 "metadata": {
  "kernelspec": {
   "display_name": "Python 3 (ipykernel)",
   "language": "python",
   "name": "python3"
  },
  "language_info": {
   "codemirror_mode": {
    "name": "ipython",
    "version": 3
   },
   "file_extension": ".py",
   "mimetype": "text/x-python",
   "name": "python",
   "nbconvert_exporter": "python",
   "pygments_lexer": "ipython3",
   "version": "3.9.7"
  }
 },
 "nbformat": 4,
 "nbformat_minor": 5
}
