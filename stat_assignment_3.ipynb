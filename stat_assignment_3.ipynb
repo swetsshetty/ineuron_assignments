{
 "cells": [
  {
   "cell_type": "markdown",
   "id": "ceee7a73",
   "metadata": {},
   "source": [
    "Calculate the mean, median, mode and standard deviation for the problem statements 1& 2.\n"
   ]
  },
  {
   "cell_type": "markdown",
   "id": "0abbbd75",
   "metadata": {},
   "source": [
    "Problem Statement 1:The marks awarded for an assignment set for a Year 8 class of 20 students were as follows:\n",
    "6 7 5 7 7 8 7 6 9 7 4 10 6 8 8 9 5 6 4 8"
   ]
  },
  {
   "cell_type": "code",
   "execution_count": 3,
   "id": "ca382670",
   "metadata": {},
   "outputs": [
    {
     "name": "stdout",
     "output_type": "stream",
     "text": [
      "mean is  6.85\n",
      "median is  7.0\n",
      "mode is  ModeResult(mode=array([7]), count=array([5]))\n",
      "Standard Deviation is 1.6311119875071343\n"
     ]
    }
   ],
   "source": [
    "import numpy as np\n",
    "from scipy import stats\n",
    "import statistics\n",
    "l =[6, 7, 5, 7, 7, 8, 7, 6, 9, 7, 4, 10, 6, 8, 8, 9, 5, 6, 4, 8]\n",
    "print('mean is ',np.mean(l))\n",
    "print('median is ',np.median(l))\n",
    "print('mode is ',stats.mode(l))\n",
    "print('Standard Deviation is', statistics.stdev(l))"
   ]
  },
  {
   "cell_type": "markdown",
   "id": "9c3e8988",
   "metadata": {},
   "source": [
    "Problem Statement 2:\n",
    "The number of calls from motorists per day for roadside service was recorded for a particular month:\n",
    "28, 122, 217, 130, 120, 86, 80, 90, 140, 120, 70, 40, 145, 113, 90, 68, 174, 194, 170,100, 75, 104, 97, 75, 123, 100, 75, 104, 97, 75, 123, 100, 89, 120, 109"
   ]
  },
  {
   "cell_type": "code",
   "execution_count": 4,
   "id": "a1f74f7e",
   "metadata": {},
   "outputs": [
    {
     "name": "stdout",
     "output_type": "stream",
     "text": [
      "mean is  107.51428571428572\n",
      "median is  100.0\n",
      "mode is  ModeResult(mode=array([75]), count=array([4]))\n",
      "Standard Deviation is 39.33892805484412\n"
     ]
    }
   ],
   "source": [
    "l1 = [28, 122, 217, 130, 120, 86, 80, 90, 140, 120, 70,\n",
    "    40, 145, 113, 90, 68, 174, 194, 170,100, 75, 104,\n",
    "    97, 75, 123, 100, 75, 104, 97, 75, 123, 100, 89, \n",
    "    120, 109]\n",
    "print('mean is ',np.mean(l1))\n",
    "print('median is ',np.median(l1))\n",
    "print('mode is ',stats.mode(l1))\n",
    "print('Standard Deviation is', statistics.stdev(l1))"
   ]
  },
  {
   "cell_type": "markdown",
   "id": "491dcb8c",
   "metadata": {},
   "source": [
    "Problem Statement 3:\n",
    "The number of times I go to the gym in weekdays, are given below along with its\n",
    "associated probability:\n",
    "x = 0, 1, 2, 3, 4, 5\n",
    "f(x) = 0.09, 0.15, 0.40, 0.25, 0.10, 0.01\n",
    "Calculate the mean no. of workouts in a week. Also evaluate the variance involved in\n",
    "it."
   ]
  },
  {
   "cell_type": "code",
   "execution_count": 19,
   "id": "47b7314d",
   "metadata": {},
   "outputs": [
    {
     "name": "stdout",
     "output_type": "stream",
     "text": [
      "mean is  2.15\n",
      "variance is  1.2275\n"
     ]
    }
   ],
   "source": [
    "x = [0, 1, 2, 3, 4, 5]\n",
    "fx = [0.09, 0.15, 0.40, 0.25, 0.10, 0.01]\n",
    "mean=0\n",
    "var=0\n",
    "for i in range(len(x)):\n",
    "    mean=mean+(x[i]*fx[i])\n",
    "print('mean is ',mean)\n",
    "for i in range(len(x)):\n",
    "    var=var+(x[i]-mean)**2*fx[i]\n",
    "print('variance is ',var)     \n",
    "        "
   ]
  },
  {
   "cell_type": "markdown",
   "id": "b9cdc9fa",
   "metadata": {},
   "source": [
    "Problem Statement 4:\n",
    "Let the continuous random variable D denote the diameter of the hole drilled in an\n",
    "aluminum sheet. The target diameter to be achieved is 12.5mm. Random\n",
    "disturbances in the process often result in inaccuracy.\n",
    "Historical data shows that the distribution of D can be modelled by the PDF (𝑑) =\n",
    "20𝑒−20(𝑑−12.5), 𝑑 ≥ 12.5. If a part with diameter > 12.6 mm needs to be scrapped,\n",
    "what is the proportion of those parts? What is the CDF when the diameter is of 11\n",
    "mm? What is your conclusion regarding the proportion of scraps?"
   ]
  },
  {
   "cell_type": "code",
   "execution_count": 53,
   "id": "15442a7f",
   "metadata": {},
   "outputs": [
    {
     "name": "stdout",
     "output_type": "stream",
     "text": [
      "Proportion that a part with diameter > 12.5mm needs to be scraped is P(X>12.6)= 0.13533528323661398\n",
      "The cdf when the diameter is of 11mm is zero since the PDF function is only applicable when d>=12.5 \n",
      "For proportion of scraps: P(12.5 < X < x) that is proportion that a particular diameter x lies between X and 12.5 F(x) = 0 for x < 12.5 is  0.8646647167633718\n",
      "For any value of diameter less than 12.5 mm, the proportion of scraps is zero. For any value above 12.5 mm the proportion of scraps follow the equation: 1-e^{-20(x-12.5)}\n"
     ]
    }
   ],
   "source": [
    "import scipy.stats as st\n",
    "from scipy.integrate import quad\n",
    "def f(d):\n",
    "    return (20*np.exp(-20*(d-12.5)))\n",
    "por=quad(f,a=12.6,b=np.inf)[0]\n",
    "print(\"Proportion that a part with diameter > 12.5mm needs to be scraped is P(X>12.6)=\",por)\n",
    "print(\"The cdf when the diameter is of 11mm is zero since the PDF function is only applicable when d>=12.5 \")\n",
    "#P(X<12.5)=0\n",
    "por1=quad(f,a=12.5,b=12.6)[0]\n",
    "print(\"For proportion of scraps: P(12.5 < X < x) that is proportion that a particular diameter x lies between X and 12.5 F(x) = 0 for x < 12.5 is \",por1)\n",
    "print(\"For any value of diameter less than 12.5 mm, the proportion of scraps is zero. For any value above 12.5 mm the proportion of scraps follow the equation: 1-e^{-20(x-12.5)}\")\n"
   ]
  },
  {
   "cell_type": "markdown",
   "id": "c77790ab",
   "metadata": {},
   "source": [
    "Problem Statement 5:\n",
    "A company manufactures LED bulbs with a faulty rate of 30%. If I randomly select 6\n",
    "chosen LEDs, what is the probability of having 2 faulty LEDs in my sample?\n",
    "Calculate the average value of this process. Also evaluate the standard deviation\n",
    "associated with it."
   ]
  },
  {
   "cell_type": "code",
   "execution_count": 58,
   "id": "f7ce750c",
   "metadata": {},
   "outputs": [
    {
     "name": "stdout",
     "output_type": "stream",
     "text": [
      "The probability of two faulty LEDs in my samples is = 0.3254\n",
      "The average value of the process is = 1.79385\n",
      "The standard deviation associated with it is = 1.1279711166514859\n"
     ]
    }
   ],
   "source": [
    "samples=40000\n",
    "binom=np.random.binomial(6,0.3,samples)\n",
    "prob=np.sum(binom==2)/40000\n",
    "p=0.3\n",
    "n=6\n",
    "r=2\n",
    "mean=binom.mean()\n",
    "std=binom.std()\n",
    "print(\"The probability of two faulty LEDs in my samples is = {}\".format(prob))\n",
    "print(\"The average value of the process is = {}\".format(mean))\n",
    "print('The standard deviation associated with it is = {}'.format(standard_dev))"
   ]
  },
  {
   "cell_type": "markdown",
   "id": "fb1945e5",
   "metadata": {},
   "source": [
    "Problem Statement 6:\n",
    "Gaurav and Barakha are both preparing for entrance exams. Gaurav attempts to\n",
    "solve 8 questions per day with a correction rate of 75%, while Barakha averages\n",
    "around 12 questions per day with a correction rate of 45%. What is the probability\n",
    "that each of them will solve 5 questions correctly? What happens in cases of 4 and 6\n",
    "correct solutions? What do you infer from it? What are the two main governing\n",
    "factors affecting their ability to solve questions correctly? Give a pictorial\n",
    "representation of the same to validate your answer."
   ]
  },
  {
   "cell_type": "code",
   "execution_count": 70,
   "id": "a53be496",
   "metadata": {},
   "outputs": [
    {
     "name": "stdout",
     "output_type": "stream",
     "text": [
      "Probability of gaurav solving 5 questions correctly is: 0.20764160156249994\n",
      "Probability of gaurav solving 4 questions correctly is: 0.08651733398437499\n",
      "Probability of gaurav solving 6 questions correctly is: 0.31146240234375\n",
      "Probability of barkha solving 5 questions correctly is: 0.2224982384326581\n",
      "Probability of barkha solving 4 questions correctly is: 0.1699639321360584\n",
      "Probability of barkha solving 6 questions correctly is: 0.21238468214026457\n"
     ]
    },
    {
     "data": {
      "image/png": "[encoded data removed]",
      "text/plain": [
       "<Figure size 1296x576 with 2 Axes>"
      ]
     },
     "metadata": {
      "needs_background": "light"
     },
     "output_type": "display_data"
    }
   ],
   "source": [
    "from scipy.stats import binom \n",
    "import matplotlib.pyplot as plt \n",
    "\n",
    "#n , p  and r values of gaurav and probability distribution\n",
    "n_G = 8\n",
    "p_G = 0.75\n",
    "r_G=list(range(n_G + 1)) \n",
    "prob_G = [binom.pmf(r, n_G, p_G) for r in r_G]\n",
    "#  gaurav probability of solving questions correctly\n",
    "print(\"Probability of gaurav solving 5 questions correctly is:\",prob_G[5])\n",
    "print(\"Probability of gaurav solving 4 questions correctly is:\",prob_G[4])\n",
    "print(\"Probability of gaurav solving 6 questions correctly is:\",prob_G[6])\n",
    "# plotting gaurav probability distribution \n",
    "fig = plt.figure(figsize=(18,8))\n",
    "plt.subplot(1, 2, 1)\n",
    "plt.title('Gaurav\\'s probability distribution')\n",
    "plt.xlabel('Number of questions solved correctly')\n",
    "plt.ylabel('Probability of solving')\n",
    "plt.bar(r_G, prob_G)\n",
    "\n",
    "#n , p  and r values of Barka and probability distribution\n",
    "n_B = 12\n",
    "p_B = 0.45\n",
    "r_B=list(range(n_B + 1))\n",
    "prob_B = [binom.pmf(r, n_B, p_B) for r in r_B]\n",
    "#  barkas probability of solving questions correctly\n",
    "print(\"Probability of barkha solving 5 questions correctly is:\",prob_B[5])\n",
    "print(\"Probability of barkha solving 4 questions correctly is:\",prob_B[4])\n",
    "print(\"Probability of barkha solving 6 questions correctly is:\",prob_B[6])\n",
    "\n",
    "# plotting barkas probability distribution \n",
    "plt.subplot(1, 2, 2)\n",
    "plt.title('Barkha\\'s probability distribution')\n",
    "plt.xlabel('Number of questions solved correctly')\n",
    "plt.ylabel('Probability of solving')\n",
    "plt.bar(r_B, prob_B) \n",
    "plt.show()"
   ]
  },
  {
   "cell_type": "markdown",
   "id": "f75e5729",
   "metadata": {},
   "source": [
    "Problem Statement 7:\n",
    "Customers arrive at a rate of 72 per hour to my shop. What is the probability of 𝑘\n",
    "customers arriving in 4 minutes? a) 5 customers, b) not more than 3 customers, c)\n",
    "more than 3 customers. Give a pictorial representation of the same to validate your\n",
    "answer."
   ]
  },
  {
   "cell_type": "code",
   "execution_count": 73,
   "id": "6e076d63",
   "metadata": {},
   "outputs": [
    {
     "name": "stdout",
     "output_type": "stream",
     "text": [
      "The probability of 5 customers arriving is 0.17\n",
      "The probability of not more than 3 customers is :0.292\n",
      "The probability of more than 3 customers is 0.708\n"
     ]
    },
    {
     "name": "stderr",
     "output_type": "stream",
     "text": [
      "C:\\Users\\SWETA\\anaconda3\\lib\\site-packages\\seaborn\\distributions.py:2619: FutureWarning: `distplot` is a deprecated function and will be removed in a future version. Please adapt your code to use either `displot` (a figure-level function with similar flexibility) or `kdeplot` (an axes-level function for kernel density plots).\n",
      "  warnings.warn(msg, FutureWarning)\n"
     ]
    },
    {
     "data": {
      "text/plain": [
       "Text(0, 0.5, 'Probability')"
      ]
     },
     "execution_count": 73,
     "metadata": {},
     "output_type": "execute_result"
    },
    {
     "data": {
      "image/png": "[encoded data removed]",
      "text/plain": [
       "<Figure size 432x288 with 1 Axes>"
      ]
     },
     "metadata": {
      "needs_background": "light"
     },
     "output_type": "display_data"
    }
   ],
   "source": [
    "import seaborn as sns\n",
    "#average number of customers arriving per 4 minutes = 4*72/60 customers come per minute\n",
    "\n",
    "mean_4m=(72/60)*4\n",
    "p=np.random.poisson(mean_4m,500)\n",
    "#probability of 5 customers arriving in 4 mins\n",
    "p1=np.sum(p==5)/500\n",
    "#probability of not more than 3 customers arriving in 4 mins\n",
    "p2=np.sum(p<=3)/500\n",
    "#probability of more than 3 customers arriving in 4 mins\n",
    "p3=np.sum(p>3)/500\n",
    "print(\"The probability of 5 customers arriving is {}\".format(p1))\n",
    "print('The probability of not more than 3 customers is :{}'.format(p2))\n",
    "print(\"The probability of more than 3 customers is {}\".format(p3))\n",
    "sns.distplot(p,hist=False,color='blue')\n",
    "plt.xlabel('Number of customers in 4 mins')\n",
    "plt.ylabel('Probability')"
   ]
  },
  {
   "cell_type": "markdown",
   "id": "69f4fb19",
   "metadata": {},
   "source": [
    "Problem Statement 8:I work as a data analyst in Aeon Learning Pvt. Ltd. After analyzing data, I make\n",
    "reports, where I have the efficiency of entering 77 words per minute with 6 errors per\n",
    "hour. What is the probability that I will commit 2 errors in a 455-word financial report?\n",
    "What happens when the no. of words increases/decreases (in case of 1000 words,\n",
    "255 words)?\n",
    "How is the 𝜆 affected?\n",
    "How does it influence the PMF?\n",
    "Give a pictorial representation of the same to validate your answer."
   ]
  },
  {
   "cell_type": "code",
   "execution_count": 81,
   "id": "6711684c",
   "metadata": {},
   "outputs": [
    {
     "name": "stdout",
     "output_type": "stream",
     "text": [
      "The pobability of commiting 2 errors in 255 word-financial report is : 0.033\n",
      "The pobability of commiting 2 errors in 455 word-financial report is  0.096\n",
      "The pobability of commiting 2 errors in 1000 word-financial report is : 0.24\n"
     ]
    },
    {
     "data": {
      "image/png": "[encoded data removed]",
      "text/plain": [
       "<Figure size 432x288 with 1 Axes>"
      ]
     },
     "metadata": {
      "needs_background": "light"
     },
     "output_type": "display_data"
    }
   ],
   "source": [
    "#rate of entering=77 \n",
    "r=77\n",
    "#error_per_min=6/60 =0.1\n",
    "em=6/60\n",
    "#error per word=0.1/77\n",
    "ew=em/r\n",
    "\n",
    "words=[100,155,255,455,655,1000,1500]\n",
    "prob=[]\n",
    "for i in words:\n",
    "    x=i*ew\n",
    "    dist=np.random.poisson(x,1000)\n",
    "    prob.append(np.sum(dist==2)/1000)\n",
    "plt.plot(words,prob)\n",
    "plt.xlabel(\"Number of Words\")\n",
    "plt.ylabel(\"Probability of two errors\")\n",
    "print(\"The pobability of commiting 2 errors in 255 word-financial report is :\",prob[2])\n",
    "print(\"The pobability of commiting 2 errors in 455 word-financial report is \", prob[3])\n",
    "print(\"The pobability of commiting 2 errors in 1000 word-financial report is :\",prob[5])\n",
    "\n"
   ]
  },
  {
   "cell_type": "markdown",
   "id": "7d038c83",
   "metadata": {},
   "source": [
    "Problem Statement 9:\n",
    "Let the continuous random variable D denote the diameter of the hole drilled in an\n",
    "aluminum sheet. The target diameter to be achieved is 12.5mm. Random\n",
    "disturbances in the process often result in inaccuracy.\n",
    "Historical data shows that the distribution of D can be modelled by the PDF, f(d) =\n",
    "20e−20(d−12.5), d ≥ 12.5. If a part with diameter > 12.6 mm needs to be scrapped,\n",
    "what is the proportion of those parts? What is the CDF when the diameter is of 11\n",
    "mm?\n",
    "What is the conclusion of this experiment?"
   ]
  },
  {
   "cell_type": "code",
   "execution_count": 51,
   "id": "07956727",
   "metadata": {},
   "outputs": [
    {
     "name": "stdout",
     "output_type": "stream",
     "text": [
      "Proportion that a part with diameter > 12.5mm needs to be scraped is P(X>12.6)= 0.13533528323661398\n",
      "The cdf when the diameter is of 11mm is zero since the PDF function is only applicable when d>=12.5 \n",
      "For proportion of scraps: P(12.5 < X < x) that is proportion that a particular diameter x lies between X and 12.5 F(x) = 0 for x < 12.5 is  0.8646647167633718\n",
      "For any value of diameter less than 12.5 mm, the proportion of scraps is zero. For any value above 12.5 mm the proportion of scraps follow the equation: 1-e^{-20(x-12.5)}\n"
     ]
    }
   ],
   "source": [
    "import scipy.stats as st\n",
    "from scipy.integrate import quad\n",
    "def f(d):\n",
    "    return (20*np.exp(-20*(d-12.5)))\n",
    "por=quad(f,a=12.6,b=np.inf)[0]\n",
    "print(\"Proportion that a part with diameter > 12.5mm needs to be scraped is P(X>12.6)=\",por)\n",
    "print(\"The cdf when the diameter is of 11mm is zero since the PDF function is only applicable when d>=12.5 \")\n",
    "#P(X<12.5)=0\n",
    "por1=quad(f,a=12.5,b=12.6)[0]\n",
    "print(\"For proportion of scraps: P(12.5 < X < x) that is proportion that a particular diameter x lies between X and 12.5 F(x) = 0 for x < 12.5 is \",por1)\n",
    "print(\"For any value of diameter less than 12.5 mm, the proportion of scraps is zero. For any value above 12.5 mm the proportion of scraps follow the equation: 1-e^{-20(x-12.5)}\")\n"
   ]
  },
  {
   "cell_type": "markdown",
   "id": "b2c93379",
   "metadata": {},
   "source": [
    "Problem Statement 10:\n",
    "Please compute the following:\n",
    "a) P(Z > 1.26), . P(Z < −0.86), P(Z > −1.37), P(−1.25 < Z < 0.37), . P(Z ≤ −4.6)\n",
    "b) Find the value 𝑧 such that 𝑃(𝑍 > 𝑧) = 0.05\n",
    "c) Find the value of 𝑧 such that 𝑃(−𝑧 < 𝑍 < 𝑧) = 0.99\n"
   ]
  },
  {
   "cell_type": "code",
   "execution_count": 59,
   "id": "26accfca",
   "metadata": {},
   "outputs": [
    {
     "name": "stdout",
     "output_type": "stream",
     "text": [
      "a) P(Z > 1.26), . P(Z < −0.86), P(Z > −1.37), P(−1.25 < Z < 0.37) is  given as below\n",
      " P(Z > 1.26) =  0.10383468112130045\n",
      " P(Z < −0.86)= 0.1948945212518084\n",
      " P(Z > −1.37)= 0.914656549178033\n",
      " P(−1.25 < Z < 0.37)= 0.5386589811336914\n",
      " P(Z ≤ −4.6)= 2.1124547024964357e-06\n",
      "b)the value 𝑧 such that 𝑃(𝑍 > 𝑧) = 0.05 is  1.6448536269514729\n",
      "c)the value of 𝑧 such that 𝑃(−𝑧 < 𝑍 < 𝑧)=0.99 is 2.3263478740408408\n"
     ]
    }
   ],
   "source": [
    "print('a) P(Z > 1.26), . P(Z < −0.86), P(Z > −1.37), P(−1.25 < Z < 0.37) is  given as below')\n",
    "print(\" P(Z > 1.26) = \",1-(st.norm.cdf(1.26)))\n",
    "print(\" P(Z < −0.86)=\",st.norm.cdf(-0.86))\n",
    "print(\" P(Z > −1.37)=\",1-(st.norm.cdf(-1.37)))\n",
    "print(\" P(−1.25 < Z < 0.37)=\",(st.norm.cdf(0.37)-st.norm.cdf(-1.25)))\n",
    "print(\" P(Z ≤ −4.6)=\",1-(st.norm.cdf(4.6)))\n",
    "print(\"b)the value 𝑧 such that 𝑃(𝑍 > 𝑧) = 0.05 is \",np.absolute(st.norm.ppf(0.05)))\n",
    "print(\"c)the value of 𝑧 such that 𝑃(−𝑧 < 𝑍 < 𝑧)=0.99 is\",st.norm.ppf(0.99))"
   ]
  },
  {
   "cell_type": "markdown",
   "id": "d6f51b7a",
   "metadata": {},
   "source": [
    "Problem Statement 11:\n",
    "The current flow in a copper wire follow a normal distribution with a mean of 10 𝑚A\n",
    "and a variance of 4 (𝑚𝐴)2.\n",
    "What is the probability that a current measurement will exceed 13 𝑚𝐴? What is the\n",
    "probability that a current measurement is between 9 and 11mA? Determine the\n",
    "current measurement which has a probability of 0.98."
   ]
  },
  {
   "cell_type": "code",
   "execution_count": 43,
   "id": "b8969d9c",
   "metadata": {},
   "outputs": [
    {
     "name": "stdout",
     "output_type": "stream",
     "text": [
      "probability that a current measurement will exceed 13 𝑚𝐴 is 0.06680720126885809\n",
      "probability that a current measurement is between 9 and 11mA is 0.38292492254802624\n",
      "the current measurement which has a probability of 0.98 is  14.107497821263646\n"
     ]
    }
   ],
   "source": [
    "mean=10\n",
    "std=2\n",
    "print(\"probability that a current measurement will exceed 13 𝑚𝐴 is\",1-(st.norm.cdf(x=13,loc=mean,scale=std)))\n",
    "print(\"probability that a current measurement is between 9 and 11mA is\",(st.norm.cdf(x=11,loc=mean,scale=std)-st.norm.cdf(x=9,loc=mean,scale=std)))\n",
    "print(\"the current measurement which has a probability of 0.98 is \",st.norm.ppf(q=0.98,loc=mean,scale=std))"
   ]
  },
  {
   "cell_type": "markdown",
   "id": "4d3d36a1",
   "metadata": {},
   "source": [
    "Problem Statement 12:\n",
    "The shaft in a piston has its diameter normally distributed with a mean of 0.2508 inch\n",
    "and a standard deviation of 0.0005 inch. The specifications of the shaft are 0.2500 ∓\n",
    "0.0015 inch. What proportion of shafts are in sync with the specifications? If the\n",
    "process is centered so that the mean is equal to the target value of 0.2500, what\n",
    "proportion of shafts conform to the new specifications? What is your conclusion from\n",
    "this experiment?"
   ]
  },
  {
   "cell_type": "code",
   "execution_count": 42,
   "id": "c97c3557",
   "metadata": {},
   "outputs": [
    {
     "name": "stdout",
     "output_type": "stream",
     "text": [
      "the proportion of shafts in sync with the specifications is 0.91924122831152\n",
      "the proportion of shaft in sync with new specification after process is centered: 0.9973002039367398\n"
     ]
    }
   ],
   "source": [
    "mean=0.2508\n",
    "std=0.0005\n",
    "a1=0.2500-0.0015\n",
    "a2=0.2500+0.0015\n",
    "print(\"the proportion of shafts in sync with the specifications is\",(st.norm.cdf(x=a2,loc=mean,scale=std)-st.norm.cdf(x=a1,loc=mean,scale=std)))\n",
    "new_mean=0.2500\n",
    "print(\"the proportion of shaft in sync with new specification after process is centered:\",(st.norm.cdf(x=a2,loc=new_mean,scale=std)-st.norm.cdf(x=a1,loc=new_mean,scale=std)))"
   ]
  },
  {
   "cell_type": "code",
   "execution_count": null,
   "id": "8b8f0519",
   "metadata": {},
   "outputs": [],
   "source": []
  }
 ],
 "metadata": {
  "kernelspec": {
   "display_name": "Python 3 (ipykernel)",
   "language": "python",
   "name": "python3"
  },
  "language_info": {
   "codemirror_mode": {
    "name": "ipython",
    "version": 3
   },
   "file_extension": ".py",
   "mimetype": "text/x-python",
   "name": "python",
   "nbconvert_exporter": "python",
   "pygments_lexer": "ipython3",
   "version": "3.9.7"
  }
 },
 "nbformat": 4,
 "nbformat_minor": 5
}
